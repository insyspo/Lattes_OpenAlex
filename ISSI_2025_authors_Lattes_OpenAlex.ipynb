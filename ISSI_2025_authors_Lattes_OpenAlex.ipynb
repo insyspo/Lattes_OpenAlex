{
  "nbformat": 4,
  "nbformat_minor": 0,
  "metadata": {
    "colab": {
      "provenance": [],
      "authorship_tag": "ABX9TyO903/hc1G0HPgiaoWmCHxZ",
      "include_colab_link": true
    },
    "kernelspec": {
      "name": "python3",
      "display_name": "Python 3"
    },
    "language_info": {
      "name": "python"
    }
  },
  "cells": [
    {
      "cell_type": "markdown",
      "metadata": {
        "id": "view-in-github",
        "colab_type": "text"
      },
      "source": [
        "<a href=\"https://colab.research.google.com/github/insyspo/Lattes_OpenAlex/blob/main/ISSI_2025_authors_Lattes_OpenAlex.ipynb\" target=\"_parent\"><img src=\"https://colab.research.google.com/assets/colab-badge.svg\" alt=\"Open In Colab\"/></a>"
      ]
    },
    {
      "cell_type": "markdown",
      "source": [
        "# A Research Entities Disambiguation Methodology Tested on Brazilian Researchers Database\n"
      ],
      "metadata": {
        "id": "ubPHOPKxBpqJ"
      }
    },
    {
      "cell_type": "markdown",
      "source": [
        "# Authors from Lattes with DOIs"
      ],
      "metadata": {
        "id": "tRpSbcXQRN4x"
      }
    },
    {
      "cell_type": "code",
      "source": [
        "%%bigquery --project = insyspo\n",
        "\n",
        " SELECT a.IDLattes, c.author_id, COUNT(DISTINCT(a.DOI)) AS dois\n",
        "      FROM (\n",
        "        SELECT  IDLattes, DOI\n",
        "        FROM `insyspo.projectdb_lattes.artigos`\n",
        "        WHERE DOI IS NOT NULL\n",
        "      )"
      ],
      "metadata": {
        "id": "uwvZ17_XR1zS"
      },
      "execution_count": null,
      "outputs": []
    },
    {
      "cell_type": "markdown",
      "source": [
        "# DOIs present in publications in Lattes"
      ],
      "metadata": {
        "id": "WQ77ucqSRTmB"
      }
    },
    {
      "cell_type": "code",
      "source": [
        "%%bigquery --project = insyspo\n",
        "\n",
        "    SELECT IDLattes, author_id, dois,\n",
        "      ROW_NUMBER() OVER (PARTITION BY IDLattes ORDER BY dois DESC) AS r\n",
        "    FROM (\n",
        "      SELECT a.IDLattes, c.author_id, COUNT(DISTINCT(a.DOI)) AS dois\n",
        "      FROM (\n",
        "        SELECT  IDLattes, DOI\n",
        "        FROM `insyspo.projectdb_lattes.artigos`\n",
        "        WHERE DOI IS NOT NULL\n",
        "      )"
      ],
      "metadata": {
        "id": "ON63I6RhRr1u"
      },
      "execution_count": null,
      "outputs": []
    },
    {
      "cell_type": "markdown",
      "source": [
        "# Authorships in OpenAlex with the DOIs"
      ],
      "metadata": {
        "id": "xQYssXkiRdJB"
      }
    },
    {
      "cell_type": "code",
      "execution_count": null,
      "metadata": {
        "id": "Vbq30SIxQScE"
      },
      "outputs": [],
      "source": [
        "%%bigquery --project = insyspo\n",
        "\n",
        "CREATE OR REPLACE TABLE insyspo.projectdb_lattes.ids_match_doi AS (\n",
        "  SELECT *\n",
        "  FROM (\n",
        "    SELECT IDLattes, author_id, dois,\n",
        "      ROW_NUMBER() OVER (PARTITION BY IDLattes ORDER BY dois DESC) AS r\n",
        "    FROM (\n",
        "      SELECT a.IDLattes, c.author_id, COUNT(DISTINCT(a.DOI)) AS dois\n",
        "      FROM (\n",
        "        SELECT  IDLattes, DOI\n",
        "        FROM `insyspo.projectdb_lattes.artigos`\n",
        "        WHERE DOI IS NOT NULL\n",
        "      ) AS a\n",
        "      JOIN `insyspo.publicdb_openalex_2024_04_rm.works` AS b\n",
        "      ON a.DOI = b.doi\n",
        "      JOIN `insyspo.publicdb_openalex_2024_04_rm.works_authorships` AS c\n",
        "      ON b.id = c.work_id\n",
        "      GROUP BY a.IDLattes, c.author_id\n",
        "    )\n",
        "    ORDER BY IDLattes, r\n",
        "  )\n",
        "  WHERE r <= 10\n",
        ");"
      ]
    },
    {
      "cell_type": "markdown",
      "source": [
        "# Alternative names for authors in OpenAlex"
      ],
      "metadata": {
        "id": "L5St7UYRR_x4"
      }
    },
    {
      "cell_type": "code",
      "source": [
        "%%bigquery --project = insyspo\n",
        "\n",
        "CREATE OR REPLACE TABLE insyspo.projectdb_lattes.names_match_doi AS (\n",
        "  SELECT ids.*, authors.display_name_alternative AS display_name, autores.Nome\n",
        "  FROM insyspo.projectdb_lattes.ids_match_doi AS ids\n",
        "  JOIN insyspo.publicdb_openalex_2024_04_rm.authors_display_name_alternatives AS authors\n",
        "  ON ids.author_id = authors.author_id\n",
        "  JOIN insyspo.projectdb_lattes.geraisIDNome AS autores\n",
        "  ON ids.IDLattes = autores.IDLattes\n",
        ")"
      ],
      "metadata": {
        "id": "d1tQKZHqSW0I"
      },
      "execution_count": null,
      "outputs": []
    },
    {
      "cell_type": "markdown",
      "source": [
        "# Distance metrics"
      ],
      "metadata": {
        "id": "3Yrn1p2lSpmq"
      }
    },
    {
      "cell_type": "code",
      "source": [
        "def names_distance_ordered(name_a,name_b):\n",
        "  sa = split_name(name_a)\n",
        "  sb = split_name(name_b)\n",
        "\n",
        "  # Análise da lista maior e menor para a criação de pares ordenados na matriz\n",
        "  if len(sa) >= len(sb):\n",
        "    major = sa\n",
        "    minor = sb\n",
        "  else:\n",
        "    major = sb\n",
        "    minor = sa\n",
        "  gap = len(major) - len(minor)\n",
        "\n",
        "  not_found = 1.0\n",
        "  D = np.ones((len(major), len(minor)))*(not_found)\n",
        "\n",
        "  for i,ia in enumerate(major):\n",
        "    for j,ib in enumerate(minor):\n",
        "\n",
        "      # Pares ordenados proibitivos vão continuar com o valor de distância igual a not_found\n",
        "      if i > (j+gap) or j > i:\n",
        "        pass\n",
        "      else:\n",
        "        if len(ia) >=2 or len(ib) >= 2:\n",
        "          rd = Lv.distance(ia,ib)/len(ia)\n",
        "          #print(ia,ib,rd)\n",
        "          D[i,j] = rd\n",
        "          #print(ia,ib,Lv.distance(ia,ib),rd)\n",
        "        if len(ia)==1 or len(ib)==1:\n",
        "          if ia[0] == ib[0]:\n",
        "            #print(ia,ib,0)\n",
        "            D[i,j] = 0\n",
        "    #print(D)\n",
        "\n",
        "  dn = D.min(axis = 0).sum()\n",
        "  return dn"
      ],
      "metadata": {
        "id": "3gy07i4BSquJ"
      },
      "execution_count": 1,
      "outputs": []
    },
    {
      "cell_type": "markdown",
      "source": [
        "# Calculation of distance metrics"
      ],
      "metadata": {
        "id": "NHdFQgwuS2DK"
      }
    },
    {
      "cell_type": "code",
      "source": [
        "%%bigquery df --project = insyspo\n",
        "\n",
        "SELECT *\n",
        "FROM `insyspo.projectdb_lattes.match_lattes_openalex_filtered`"
      ],
      "metadata": {
        "colab": {
          "base_uri": "https://localhost:8080/",
          "height": 81,
          "referenced_widgets": [
            "2d67441fb4184347a7b0d6223da88185",
            "f47ad38c0e234bc2be72adc6e70f77e0",
            "b4789a9279804840b48c18895836615b",
            "6f9d87395c5e44418da086163241f112",
            "bbc2734c8bcf41979864ae2ae2fa3702",
            "e7572c86da6e40b39321656a9bed9574",
            "4869dc7c2f0f4335965cde93aa227263",
            "f140bd367da74ea7baa498fee936b703",
            "89dc80b17426405dafed16ac503ed844",
            "3e5737319cd84dc9a927df64ecf3b035",
            "0f209ce46d5042ecb668022e91cafed7",
            "e03f7b6ad03c429bbe96993b4f9df78d",
            "25efce3796ed44939288a4d156bb274c",
            "f245eb47d43f4675a99ca798b3de41d5",
            "f5a706623b314f7786d3ec806633718d",
            "f1abc7602ed64f318b9e3bb885fcd3ab",
            "70b56220436344b68b024cded7fba30e",
            "ff888f7b1aed4b419a49be6c37577ba1",
            "9cb6a10ab05e42ac93b97de0d4fe207b",
            "04c500e2503e4d64947c5ff36c724718",
            "2095176953ee42fc81a9300fc5615939",
            "b4cb6da3e28244929f37c9a91fcc242d"
          ]
        },
        "id": "0pLIRMCfgWA7",
        "outputId": "e7b00d2c-0fa4-4784-aea1-959d5fe9dccb"
      },
      "execution_count": null,
      "outputs": [
        {
          "output_type": "display_data",
          "data": {
            "text/plain": [
              "Query is running:   0%|          |"
            ],
            "application/vnd.jupyter.widget-view+json": {
              "version_major": 2,
              "version_minor": 0,
              "model_id": "2d67441fb4184347a7b0d6223da88185"
            }
          },
          "metadata": {}
        },
        {
          "output_type": "display_data",
          "data": {
            "text/plain": [
              "Downloading:   0%|          |"
            ],
            "application/vnd.jupyter.widget-view+json": {
              "version_major": 2,
              "version_minor": 0,
              "model_id": "e03f7b6ad03c429bbe96993b4f9df78d"
            }
          },
          "metadata": {}
        }
      ]
    },
    {
      "cell_type": "code",
      "source": [
        "df['distance_names'] = df.apply(lambda x: names_distance_ordered(x['display_name'],x['Nome']),axis=1)"
      ],
      "metadata": {
        "id": "fJ-1PHcdgnYE"
      },
      "execution_count": null,
      "outputs": []
    },
    {
      "cell_type": "code",
      "source": [
        "pandas_gbq.to_gbq(df,destination_table='projectdb_lattes.match_lattes_openalex_distances',\n",
        "                  project_id='insyspo',if_exists = 'replace')"
      ],
      "metadata": {
        "id": "yNy2JbfXhCRY",
        "colab": {
          "base_uri": "https://localhost:8080/"
        },
        "outputId": "49eaa6a7-9d23-4aad-90e6-602f26378718"
      },
      "execution_count": null,
      "outputs": [
        {
          "output_type": "stream",
          "name": "stderr",
          "text": [
            "100%|██████████| 1/1 [00:00<00:00, 665.55it/s]\n"
          ]
        }
      ]
    },
    {
      "cell_type": "markdown",
      "source": [
        "# Sort by the most likely match"
      ],
      "metadata": {
        "id": "OpB_qhqH-jsi"
      }
    },
    {
      "cell_type": "code",
      "source": [
        "%%bigquery df --project = insyspo\n",
        "\n",
        "CREATE OR REPLACE TABLE projectdb_lattes.match_lattes_openalex_distances_ AS (\n",
        "  SELECT IDLattes, author_id,\n",
        "    display_name,\n",
        "    Nome,\n",
        "    distance_names,\n",
        "    ROW_NUMBER() OVER (PARTITION BY IDLattes ORDER BY distance_names ASC) AS seq\n",
        "  FROM `insyspo.projectdb_lattes.match_lattes_openalex_distances`\n",
        "  WHERE seq = 1 AND distance_names < 0.5\n",
        "  ORDER BY distance_names DESC, IDLattes\n",
        ")"
      ],
      "metadata": {
        "id": "WjpsW1vx9Jtv",
        "colab": {
          "base_uri": "https://localhost:8080/",
          "height": 49,
          "referenced_widgets": [
            "42ef9d76d4cd4db9b07a2ef9014263ac",
            "619a8e373cdf44eb956f95c684ae838f",
            "a90e8b241e1b4820a86564eba89421d4",
            "1d38ea606c274fc999f456f0e3a5c741",
            "8b4bfb0e0fe24e56bfaa1df756ec68fb",
            "9b20f6e9178248bb8d26beb2cc0fee5e",
            "7194720a013942c78a7fcfddba57c063",
            "608a95b9f0494410a2d9983d261c8002",
            "f0ddb2415c044427bacff145b2f2ce97",
            "81682f094e0445409b4c7109a998fad1",
            "56775f13b8744e8f9735275509e7cc7f"
          ]
        },
        "outputId": "e6ef26c5-9637-46e8-f32e-f7709bb65e5b"
      },
      "execution_count": null,
      "outputs": [
        {
          "output_type": "display_data",
          "data": {
            "text/plain": [
              "Query is running:   0%|          |"
            ],
            "application/vnd.jupyter.widget-view+json": {
              "version_major": 2,
              "version_minor": 0,
              "model_id": "42ef9d76d4cd4db9b07a2ef9014263ac"
            }
          },
          "metadata": {}
        }
      ]
    },
    {
      "cell_type": "markdown",
      "source": [
        "## Cruzamento final das três etapas"
      ],
      "metadata": {
        "id": "KVbLu-mcA-Bp"
      }
    }
  ]
}